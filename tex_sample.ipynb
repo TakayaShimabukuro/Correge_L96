{
 "cells": [
  {
   "cell_type": "code",
   "execution_count": 1,
   "metadata": {},
   "outputs": [
    {
     "name": "stderr",
     "output_type": "stream",
     "text": [
      "C:\\Users\\user\\anaconda3\\envs\\py38\\lib\\site-packages\\IPython\\lib\\latextools.py:126: MatplotlibDeprecationWarning: \n",
      "The to_png function was deprecated in Matplotlib 3.4 and will be removed two minor releases later. Use mathtext.math_to_image instead.\n",
      "  mt.to_png(f, s, fontsize=12, dpi=dpi, color=color)\n",
      "C:\\Users\\user\\anaconda3\\envs\\py38\\lib\\site-packages\\IPython\\lib\\latextools.py:126: MatplotlibDeprecationWarning: \n",
      "The to_rgba function was deprecated in Matplotlib 3.4 and will be removed two minor releases later. Use mathtext.math_to_image instead.\n",
      "  mt.to_png(f, s, fontsize=12, dpi=dpi, color=color)\n",
      "C:\\Users\\user\\anaconda3\\envs\\py38\\lib\\site-packages\\IPython\\lib\\latextools.py:126: MatplotlibDeprecationWarning: \n",
      "The to_mask function was deprecated in Matplotlib 3.4 and will be removed two minor releases later. Use mathtext.math_to_image instead.\n",
      "  mt.to_png(f, s, fontsize=12, dpi=dpi, color=color)\n",
      "C:\\Users\\user\\anaconda3\\envs\\py38\\lib\\site-packages\\IPython\\lib\\latextools.py:126: MatplotlibDeprecationWarning: \n",
      "The MathtextBackendBitmap class was deprecated in Matplotlib 3.4 and will be removed two minor releases later. Use mathtext.math_to_image instead.\n",
      "  mt.to_png(f, s, fontsize=12, dpi=dpi, color=color)\n"
     ]
    },
    {
     "data": {
      "image/png": "[encoded data removed]",
      "text/latex": [
       "$\\displaystyle \\frac{\\sqrt{2} \\left(- e^{a} \\sin{\\left(a + \\frac{\\pi}{4} \\right)} + e^{b} \\sin{\\left(b + \\frac{\\pi}{4} \\right)}\\right)}{2}$"
      ],
      "text/plain": [
       "   ⎛   a    ⎛    π⎞    b    ⎛    π⎞⎞\n",
       "√2⋅⎜- ℯ ⋅sin⎜a + ─⎟ + ℯ ⋅sin⎜b + ─⎟⎟\n",
       "   ⎝        ⎝    4⎠         ⎝    4⎠⎠\n",
       "────────────────────────────────────\n",
       "                 2                  "
      ]
     },
     "metadata": {},
     "output_type": "display_data"
    },
    {
     "name": "stdout",
     "output_type": "stream",
     "text": [
      "\\frac{\\sqrt{2} \\left(- e^{a} \\sin{\\left(a + \\frac{\\pi}{4} \\right)} + e^{b} \\sin{\\left(b + \\frac{\\pi}{4} \\right)}\\right)}{2}\n"
     ]
    }
   ],
   "source": [
    "# PYTHON_JUPYTER_LATEX_a03\n",
    "\n",
    "import sympy\n",
    "\n",
    "# LaTeXで数式を表示\n",
    "sympy.init_printing()\n",
    "\n",
    "# 記号xを定義\n",
    "sympy.var(\"a b x y\")\n",
    "\n",
    "# f(x)=exp(x)*cos(x)\n",
    "f = sympy.exp(x) * sympy.cos(x)\n",
    "\n",
    "# f(x)をaからbまでxで積分する\n",
    "i = sympy.integrate(f, (x, a, b))\n",
    "\n",
    "# 数式をまとめる（整理する）\n",
    "i = sympy.simplify(i)\n",
    "\n",
    "# 数式をLaTeXで表示\n",
    "display(i)\n",
    "\n",
    "# 数式のLaTeXコマンドを表示\n",
    "print(sympy.latex(i))"
   ]
  },
  {
   "cell_type": "code",
   "execution_count": null,
   "metadata": {},
   "outputs": [],
   "source": [
    "import sympy\n",
    "\n",
    "# LaTeXで数式を表示\n",
    "sympy.init_printing()\n",
    "\n",
    "# 記号xを定義\n",
    "sympy.var(\"x\")\n",
    "\n",
    "f = sympy.log(x)\n",
    "g = sympy.sin(x)\n",
    "\n",
    "display(f)\n",
    "display(g)"
   ]
  }
 ],
 "metadata": {
  "interpreter": {
   "hash": "cd8e05a9d957d7467ce74a14df2c113797fdec8e219653c0e2ed473cc5adb41e"
  },
  "kernelspec": {
   "display_name": "Python 3.9.7 ('py38')",
   "language": "python",
   "name": "python3"
  },
  "language_info": {
   "codemirror_mode": {
    "name": "ipython",
    "version": 3
   },
   "file_extension": ".py",
   "mimetype": "text/x-python",
   "name": "python",
   "nbconvert_exporter": "python",
   "pygments_lexer": "ipython3",
   "version": "3.9.7"
  },
  "orig_nbformat": 4
 },
 "nbformat": 4,
 "nbformat_minor": 2
}
